{
  "nbformat": 4,
  "nbformat_minor": 0,
  "metadata": {
    "colab": {
      "provenance": [],
      "authorship_tag": "ABX9TyNBUdt1i4vaLqHvJZGmVvpT",
      "include_colab_link": true
    },
    "kernelspec": {
      "name": "python3",
      "display_name": "Python 3"
    },
    "language_info": {
      "name": "python"
    },
    "accelerator": "GPU",
    "gpuClass": "standard"
  },
  "cells": [
    {
      "cell_type": "markdown",
      "metadata": {
        "id": "view-in-github",
        "colab_type": "text"
      },
      "source": [
        "<a href=\"https://colab.research.google.com/github/mahedishato/DL/blob/main/dog_vs_cat.ipynb\" target=\"_parent\"><img src=\"https://colab.research.google.com/assets/colab-badge.svg\" alt=\"Open In Colab\"/></a>"
      ]
    },
    {
      "cell_type": "code",
      "execution_count": 1,
      "metadata": {
        "id": "wJinqBPATw70"
      },
      "outputs": [],
      "source": [
        "!mkdir -p ~/.kaggle #Easily start kaggle in google colab\n",
        "!cp kaggle.json ~/.kaggle/ #to download kaggle data in Google Colab"
      ]
    },
    {
      "cell_type": "code",
      "source": [
        "!kaggle datasets download -d salader/dogs-vs-cats  #kaggle dataset API"
      ],
      "metadata": {
        "colab": {
          "base_uri": "https://localhost:8080/"
        },
        "id": "oiqQgZv0UBnT",
        "outputId": "0c003edb-9af8-402f-bca8-256af802f12b"
      },
      "execution_count": 2,
      "outputs": [
        {
          "output_type": "stream",
          "name": "stdout",
          "text": [
            "Warning: Your Kaggle API key is readable by other users on this system! To fix this, you can run 'chmod 600 /root/.kaggle/kaggle.json'\n",
            "Downloading dogs-vs-cats.zip to /content\n",
            "100% 1.06G/1.06G [00:49<00:00, 22.8MB/s]\n",
            "100% 1.06G/1.06G [00:49<00:00, 22.9MB/s]\n"
          ]
        }
      ]
    },
    {
      "cell_type": "code",
      "source": [
        "import zipfile\n",
        "zip_ref = zipfile.ZipFile('/content/dogs-vs-cats.zip', 'r')\n",
        "zip_ref.extractall('/content')\n",
        "zip_ref.close()"
      ],
      "metadata": {
        "id": "NOKNuP0dUDxZ"
      },
      "execution_count": 3,
      "outputs": []
    },
    {
      "cell_type": "code",
      "source": [
        "import tensorflow as tf\n",
        "from tensorflow import keras\n",
        "from keras import Sequential\n",
        "from keras.layers import Dense,Conv2D,MaxPooling2D,Flatten,BatchNormalization,Dropout"
      ],
      "metadata": {
        "id": "FhIjQ3gIUuH4"
      },
      "execution_count": 4,
      "outputs": []
    },
    {
      "cell_type": "code",
      "source": [
        "# generators\n",
        "train_ds = keras.utils.image_dataset_from_directory(\n",
        "    directory = '/content/train',\n",
        "    labels='inferred',\n",
        "    label_mode = 'int',\n",
        "    batch_size=32,\n",
        "    image_size=(256,256)\n",
        ")\n",
        "\n",
        "validation_ds = keras.utils.image_dataset_from_directory(\n",
        "    directory = '/content/test',\n",
        "    labels='inferred',\n",
        "    label_mode = 'int',\n",
        "    batch_size=32,\n",
        "    image_size=(256,256)\n",
        ")"
      ],
      "metadata": {
        "colab": {
          "base_uri": "https://localhost:8080/"
        },
        "id": "H20pI77WU2PJ",
        "outputId": "cd1dc31e-f2e9-4800-e758-18b7983c1940"
      },
      "execution_count": 5,
      "outputs": [
        {
          "output_type": "stream",
          "name": "stdout",
          "text": [
            "Found 20000 files belonging to 2 classes.\n",
            "Found 5000 files belonging to 2 classes.\n"
          ]
        }
      ]
    },
    {
      "cell_type": "code",
      "source": [
        "# Normalize\n",
        "def process(image,label):\n",
        "    image = tf.cast(image/255. ,tf.float32)\n",
        "    return image,label\n",
        "\n",
        "train_ds = train_ds.map(process)\n",
        "validation_ds = validation_ds.map(process)"
      ],
      "metadata": {
        "id": "jruVIQBTU4h5"
      },
      "execution_count": 6,
      "outputs": []
    },
    {
      "cell_type": "code",
      "source": [
        "# create CNN model\n",
        "\n",
        "model = Sequential()\n",
        "\n",
        "model.add(Conv2D(32,kernel_size=(3,3),padding='valid',activation='relu',input_shape=(256,256,3)))\n",
        "model.add(BatchNormalization())\n",
        "model.add(MaxPooling2D(pool_size=(2,2),strides=2,padding='valid'))\n",
        "\n",
        "model.add(Conv2D(64,kernel_size=(3,3),padding='valid',activation='relu'))\n",
        "model.add(BatchNormalization())\n",
        "model.add(MaxPooling2D(pool_size=(2,2),strides=2,padding='valid'))\n",
        "\n",
        "model.add(Conv2D(128,kernel_size=(3,3),padding='valid',activation='relu'))\n",
        "model.add(BatchNormalization())\n",
        "model.add(MaxPooling2D(pool_size=(2,2),strides=2,padding='valid'))\n",
        "\n",
        "model.add(Flatten())\n",
        "\n",
        "model.add(Dense(128,activation='relu'))\n",
        "model.add(Dropout(0.1))\n",
        "model.add(Dense(64,activation='relu'))\n",
        "model.add(Dropout(0.1))\n",
        "model.add(Dense(1,activation='sigmoid'))"
      ],
      "metadata": {
        "id": "tsBSMCwHU8X5"
      },
      "execution_count": 7,
      "outputs": []
    },
    {
      "cell_type": "code",
      "source": [
        "model.compile(optimizer='adam',loss='binary_crossentropy',metrics=['accuracy'])"
      ],
      "metadata": {
        "id": "YCTOylLWU-np"
      },
      "execution_count": 8,
      "outputs": []
    },
    {
      "cell_type": "code",
      "source": [
        "history = model.fit(train_ds,epochs=10,validation_data=validation_ds)"
      ],
      "metadata": {
        "colab": {
          "base_uri": "https://localhost:8080/"
        },
        "id": "l_QduOqzVCE5",
        "outputId": "aea95e88-ca5d-4df9-a5c8-80bfa1e0792b"
      },
      "execution_count": 9,
      "outputs": [
        {
          "output_type": "stream",
          "name": "stdout",
          "text": [
            "Epoch 1/10\n",
            "625/625 [==============================] - 86s 121ms/step - loss: 1.1010 - accuracy: 0.6079 - val_loss: 0.5915 - val_accuracy: 0.6794\n",
            "Epoch 2/10\n",
            "625/625 [==============================] - 75s 119ms/step - loss: 0.5709 - accuracy: 0.7061 - val_loss: 0.6068 - val_accuracy: 0.6250\n",
            "Epoch 3/10\n",
            "625/625 [==============================] - 75s 119ms/step - loss: 0.4728 - accuracy: 0.7791 - val_loss: 0.5359 - val_accuracy: 0.7380\n",
            "Epoch 4/10\n",
            "625/625 [==============================] - 75s 119ms/step - loss: 0.4020 - accuracy: 0.8195 - val_loss: 0.4717 - val_accuracy: 0.7754\n",
            "Epoch 5/10\n",
            "625/625 [==============================] - 75s 118ms/step - loss: 0.3346 - accuracy: 0.8533 - val_loss: 0.5780 - val_accuracy: 0.7386\n",
            "Epoch 6/10\n",
            "625/625 [==============================] - 75s 119ms/step - loss: 0.2633 - accuracy: 0.8891 - val_loss: 0.5942 - val_accuracy: 0.7828\n",
            "Epoch 7/10\n",
            "625/625 [==============================] - 75s 119ms/step - loss: 0.1904 - accuracy: 0.9235 - val_loss: 0.6820 - val_accuracy: 0.7846\n",
            "Epoch 8/10\n",
            "625/625 [==============================] - 76s 120ms/step - loss: 0.1303 - accuracy: 0.9499 - val_loss: 0.6270 - val_accuracy: 0.8110\n",
            "Epoch 9/10\n",
            "625/625 [==============================] - 74s 118ms/step - loss: 0.0902 - accuracy: 0.9683 - val_loss: 0.8620 - val_accuracy: 0.7664\n",
            "Epoch 10/10\n",
            "625/625 [==============================] - 76s 121ms/step - loss: 0.0681 - accuracy: 0.9767 - val_loss: 0.6960 - val_accuracy: 0.8010\n"
          ]
        }
      ]
    },
    {
      "cell_type": "code",
      "source": [
        "import matplotlib.pyplot as plt\n",
        "\n",
        "plt.plot(history.history['accuracy'],color='red',label='train')\n",
        "plt.plot(history.history['val_accuracy'],color='blue',label='validation')\n",
        "plt.legend()\n",
        "plt.show()"
      ],
      "metadata": {
        "colab": {
          "base_uri": "https://localhost:8080/",
          "height": 265
        },
        "id": "YOXlqtTHVEho",
        "outputId": "2b529bf2-b84b-4a16-810c-5c1ade9d603a"
      },
      "execution_count": 10,
      "outputs": [
        {
          "output_type": "display_data",
          "data": {
            "text/plain": [
              "<Figure size 432x288 with 1 Axes>"
            ],
            "image/png": "[encoded data removed]"
          },
          "metadata": {
            "needs_background": "light"
          }
        }
      ]
    },
    {
      "cell_type": "code",
      "source": [],
      "metadata": {
        "id": "E2bcF61EgQWg"
      },
      "execution_count": null,
      "outputs": []
    }
  ]
}