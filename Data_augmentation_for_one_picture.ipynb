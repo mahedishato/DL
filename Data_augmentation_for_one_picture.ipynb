{
  "nbformat": 4,
  "nbformat_minor": 0,
  "metadata": {
    "colab": {
      "provenance": [],
      "mount_file_id": "1Q07B6s212YMPqSwvPjqtvjvQ7ec6-j3m",
      "authorship_tag": "ABX9TyMui//6e3cag2t24+O8wvBm",
      "include_colab_link": true
    },
    "kernelspec": {
      "name": "python3",
      "display_name": "Python 3"
    },
    "language_info": {
      "name": "python"
    }
  },
  "cells": [
    {
      "cell_type": "markdown",
      "metadata": {
        "id": "view-in-github",
        "colab_type": "text"
      },
      "source": [
        "<a href=\"https://colab.research.google.com/github/mahedishato/DL/blob/main/Data_augmentation_for_one_picture.ipynb\" target=\"_parent\"><img src=\"https://colab.research.google.com/assets/colab-badge.svg\" alt=\"Open In Colab\"/></a>"
      ]
    },
    {
      "cell_type": "code",
      "execution_count": null,
      "metadata": {
        "id": "twVW0hpUtxPi"
      },
      "outputs": [],
      "source": [
        "from keras.preprocessing.image import ImageDataGenerator\n",
        "from keras.preprocessing import image\n",
        "import keras\n",
        "import tensorflow as tf\n",
        "import tensorflow.compat.v2 as tf"
      ]
    },
    {
      "cell_type": "code",
      "source": [
        "img = tf.keras.preprocessing.image.load_img('/content/drive/MyDrive/image/marguerite-729510__340.jpg', target_size=(200,200))"
      ],
      "metadata": {
        "id": "uYUghkgxx3K0"
      },
      "execution_count": null,
      "outputs": []
    },
    {
      "cell_type": "code",
      "source": [
        "image_gen = ImageDataGenerator(\n",
        "    rotation_range=0.2,\n",
        "    shear_range=0.2,\n",
        "    zoom_range=0.2,\n",
        "    horizontal_flip=True,\n",
        "    vertical_flip=True,\n",
        "    width_shift_range=0.2,\n",
        "    height_shift_range=0.2\n",
        ")"
      ],
      "metadata": {
        "id": "6I03qlNdu727"
      },
      "execution_count": null,
      "outputs": []
    },
    {
      "cell_type": "code",
      "source": [
        "from tensorflow.keras.utils import img_to_array\n"
      ],
      "metadata": {
        "id": "pc0xcilxy-p5"
      },
      "execution_count": null,
      "outputs": []
    },
    {
      "cell_type": "code",
      "source": [
        "img = img_to_array(img)"
      ],
      "metadata": {
        "id": "x4aenHnazG3Z"
      },
      "execution_count": null,
      "outputs": []
    },
    {
      "cell_type": "code",
      "source": [
        "img.shape"
      ],
      "metadata": {
        "colab": {
          "base_uri": "https://localhost:8080/"
        },
        "id": "WCLALAFCxxUE",
        "outputId": "eda0c4be-5198-4024-c383-62de307afcbc"
      },
      "execution_count": null,
      "outputs": [
        {
          "output_type": "execute_result",
          "data": {
            "text/plain": [
              "(200, 200, 3)"
            ]
          },
          "metadata": {},
          "execution_count": 23
        }
      ]
    },
    {
      "cell_type": "code",
      "source": [
        "image_batch= img.reshape(1,200,200,3)"
      ],
      "metadata": {
        "id": "-NkdntrcxhZ2"
      },
      "execution_count": null,
      "outputs": []
    },
    {
      "cell_type": "code",
      "source": [
        "i = 0\n",
        "for output in image_gen.flow(image_batch, batch_size=1, save_to_dir='/content/drive/MyDrive/image/aug'):\n",
        "  i +=1\n",
        "  if i==50:\n",
        "    break"
      ],
      "metadata": {
        "id": "a5J0KbkswK-u"
      },
      "execution_count": null,
      "outputs": []
    },
    {
      "cell_type": "code",
      "source": [],
      "metadata": {
        "id": "eIzWDLPdwZX5"
      },
      "execution_count": null,
      "outputs": []
    }
  ]
}