{
  "nbformat": 4,
  "nbformat_minor": 0,
  "metadata": {
    "colab": {
      "provenance": [],
      "mount_file_id": "1q9okeX0rpJ5g-VIWD0uwWJWPvcE2M5Gc",
      "authorship_tag": "ABX9TyOOthKWC9J7ilWdEhlX7/wa",
      "include_colab_link": true
    },
    "kernelspec": {
      "name": "python3",
      "display_name": "Python 3"
    },
    "language_info": {
      "name": "python"
    },
    "accelerator": "GPU",
    "gpuClass": "standard"
  },
  "cells": [
    {
      "cell_type": "markdown",
      "metadata": {
        "id": "view-in-github",
        "colab_type": "text"
      },
      "source": [
        "<a href=\"https://colab.research.google.com/github/mahedishato/DL/blob/main/prediction_picture.ipynb\" target=\"_parent\"><img src=\"https://colab.research.google.com/assets/colab-badge.svg\" alt=\"Open In Colab\"/></a>"
      ]
    },
    {
      "cell_type": "code",
      "execution_count": 1,
      "metadata": {
        "id": "fd0-HWYMqRcI"
      },
      "outputs": [],
      "source": [
        "import shutil\n",
        "shutil.unpack_archive(\"/content/drive/MyDrive/Datasets/picture data/archive (1).zip\", \"/content/drive/MyDrive/Datasets/picture data\")"
      ]
    },
    {
      "cell_type": "code",
      "source": [
        "import numpy as np\n",
        "import pandas as pd\n",
        "import seaborn as sns\n",
        "from matplotlib import pyplot as plt\n",
        "import os\n",
        "from IPython.display import Image"
      ],
      "metadata": {
        "id": "hxim3Ounq3P6"
      },
      "execution_count": 2,
      "outputs": []
    },
    {
      "cell_type": "code",
      "source": [
        "data_csv = pd.read_csv(r'/content/drive/MyDrive/Datasets/picture data/train/train.csv')\n",
        "print('data shape: ', data_csv.shape)\n",
        "\n",
        "categories = {0: 'Cargo' , 1: 'Military', 2: 'Carrier', 3: 'Cruise', 4: 'Tankers'}\n",
        "\n",
        "data_csv['category'] = data_csv['category'] - 1\n",
        "data_csv['label'] = data_csv['category'].map(categories)\n",
        "data_csv['label'] = pd.Categorical(data_csv['label'])\n",
        "data_csv.head()"
      ],
      "metadata": {
        "colab": {
          "base_uri": "https://localhost:8080/",
          "height": 224
        },
        "id": "VG2xaZsOrIg2",
        "outputId": "09712adf-c4f0-425e-e802-a209fa8fe908"
      },
      "execution_count": 3,
      "outputs": [
        {
          "output_type": "stream",
          "name": "stdout",
          "text": [
            "data shape:  (6252, 2)\n"
          ]
        },
        {
          "output_type": "execute_result",
          "data": {
            "text/plain": [
              "         image  category     label\n",
              "0  2823080.jpg         0     Cargo\n",
              "1  2870024.jpg         0     Cargo\n",
              "2  2662125.jpg         1  Military\n",
              "3  2900420.jpg         2   Carrier\n",
              "4  2804883.jpg         1  Military"
            ],
            "text/html": [
              "\n",
              "  <div id=\"df-cd0aa6a2-9899-4980-bc53-638b80b014f0\">\n",
              "    <div class=\"colab-df-container\">\n",
              "      <div>\n",
              "<style scoped>\n",
              "    .dataframe tbody tr th:only-of-type {\n",
              "        vertical-align: middle;\n",
              "    }\n",
              "\n",
              "    .dataframe tbody tr th {\n",
              "        vertical-align: top;\n",
              "    }\n",
              "\n",
              "    .dataframe thead th {\n",
              "        text-align: right;\n",
              "    }\n",
              "</style>\n",
              "<table border=\"1\" class=\"dataframe\">\n",
              "  <thead>\n",
              "    <tr style=\"text-align: right;\">\n",
              "      <th></th>\n",
              "      <th>image</th>\n",
              "      <th>category</th>\n",
              "      <th>label</th>\n",
              "    </tr>\n",
              "  </thead>\n",
              "  <tbody>\n",
              "    <tr>\n",
              "      <th>0</th>\n",
              "      <td>2823080.jpg</td>\n",
              "      <td>0</td>\n",
              "      <td>Cargo</td>\n",
              "    </tr>\n",
              "    <tr>\n",
              "      <th>1</th>\n",
              "      <td>2870024.jpg</td>\n",
              "      <td>0</td>\n",
              "      <td>Cargo</td>\n",
              "    </tr>\n",
              "    <tr>\n",
              "      <th>2</th>\n",
              "      <td>2662125.jpg</td>\n",
              "      <td>1</td>\n",
              "      <td>Military</td>\n",
              "    </tr>\n",
              "    <tr>\n",
              "      <th>3</th>\n",
              "      <td>2900420.jpg</td>\n",
              "      <td>2</td>\n",
              "      <td>Carrier</td>\n",
              "    </tr>\n",
              "    <tr>\n",
              "      <th>4</th>\n",
              "      <td>2804883.jpg</td>\n",
              "      <td>1</td>\n",
              "      <td>Military</td>\n",
              "    </tr>\n",
              "  </tbody>\n",
              "</table>\n",
              "</div>\n",
              "      <button class=\"colab-df-convert\" onclick=\"convertToInteractive('df-cd0aa6a2-9899-4980-bc53-638b80b014f0')\"\n",
              "              title=\"Convert this dataframe to an interactive table.\"\n",
              "              style=\"display:none;\">\n",
              "        \n",
              "  <svg xmlns=\"http://www.w3.org/2000/svg\" height=\"24px\"viewBox=\"0 0 24 24\"\n",
              "       width=\"24px\">\n",
              "    <path d=\"M0 0h24v24H0V0z\" fill=\"none\"/>\n",
              "    <path d=\"M18.56 5.44l.94 2.06.94-2.06 2.06-.94-2.06-.94-.94-2.06-.94 2.06-2.06.94zm-11 1L8.5 8.5l.94-2.06 2.06-.94-2.06-.94L8.5 2.5l-.94 2.06-2.06.94zm10 10l.94 2.06.94-2.06 2.06-.94-2.06-.94-.94-2.06-.94 2.06-2.06.94z\"/><path d=\"M17.41 7.96l-1.37-1.37c-.4-.4-.92-.59-1.43-.59-.52 0-1.04.2-1.43.59L10.3 9.45l-7.72 7.72c-.78.78-.78 2.05 0 2.83L4 21.41c.39.39.9.59 1.41.59.51 0 1.02-.2 1.41-.59l7.78-7.78 2.81-2.81c.8-.78.8-2.07 0-2.86zM5.41 20L4 18.59l7.72-7.72 1.47 1.35L5.41 20z\"/>\n",
              "  </svg>\n",
              "      </button>\n",
              "      \n",
              "  <style>\n",
              "    .colab-df-container {\n",
              "      display:flex;\n",
              "      flex-wrap:wrap;\n",
              "      gap: 12px;\n",
              "    }\n",
              "\n",
              "    .colab-df-convert {\n",
              "      background-color: #E8F0FE;\n",
              "      border: none;\n",
              "      border-radius: 50%;\n",
              "      cursor: pointer;\n",
              "      display: none;\n",
              "      fill: #1967D2;\n",
              "      height: 32px;\n",
              "      padding: 0 0 0 0;\n",
              "      width: 32px;\n",
              "    }\n",
              "\n",
              "    .colab-df-convert:hover {\n",
              "      background-color: #E2EBFA;\n",
              "      box-shadow: 0px 1px 2px rgba(60, 64, 67, 0.3), 0px 1px 3px 1px rgba(60, 64, 67, 0.15);\n",
              "      fill: #174EA6;\n",
              "    }\n",
              "\n",
              "    [theme=dark] .colab-df-convert {\n",
              "      background-color: #3B4455;\n",
              "      fill: #D2E3FC;\n",
              "    }\n",
              "\n",
              "    [theme=dark] .colab-df-convert:hover {\n",
              "      background-color: #434B5C;\n",
              "      box-shadow: 0px 1px 3px 1px rgba(0, 0, 0, 0.15);\n",
              "      filter: drop-shadow(0px 1px 2px rgba(0, 0, 0, 0.3));\n",
              "      fill: #FFFFFF;\n",
              "    }\n",
              "  </style>\n",
              "\n",
              "      <script>\n",
              "        const buttonEl =\n",
              "          document.querySelector('#df-cd0aa6a2-9899-4980-bc53-638b80b014f0 button.colab-df-convert');\n",
              "        buttonEl.style.display =\n",
              "          google.colab.kernel.accessAllowed ? 'block' : 'none';\n",
              "\n",
              "        async function convertToInteractive(key) {\n",
              "          const element = document.querySelector('#df-cd0aa6a2-9899-4980-bc53-638b80b014f0');\n",
              "          const dataTable =\n",
              "            await google.colab.kernel.invokeFunction('convertToInteractive',\n",
              "                                                     [key], {});\n",
              "          if (!dataTable) return;\n",
              "\n",
              "          const docLinkHtml = 'Like what you see? Visit the ' +\n",
              "            '<a target=\"_blank\" href=https://colab.research.google.com/notebooks/data_table.ipynb>data table notebook</a>'\n",
              "            + ' to learn more about interactive tables.';\n",
              "          element.innerHTML = '';\n",
              "          dataTable['output_type'] = 'display_data';\n",
              "          await google.colab.output.renderOutput(dataTable, element);\n",
              "          const docLink = document.createElement('div');\n",
              "          docLink.innerHTML = docLinkHtml;\n",
              "          element.appendChild(docLink);\n",
              "        }\n",
              "      </script>\n",
              "    </div>\n",
              "  </div>\n",
              "  "
            ]
          },
          "metadata": {},
          "execution_count": 3
        }
      ]
    },
    {
      "cell_type": "code",
      "source": [
        "sns.countplot(data_csv['label'])\n",
        "plt.title('Ship Category Distribution')\n",
        "plt.xlabel('Categories')\n",
        "plt.ylabel('Counts of observation')"
      ],
      "metadata": {
        "colab": {
          "base_uri": "https://localhost:8080/",
          "height": 367
        },
        "id": "ikdEzuXyrQse",
        "outputId": "b3d9d8e4-9824-42b2-f985-07af25027c5e"
      },
      "execution_count": 4,
      "outputs": [
        {
          "output_type": "stream",
          "name": "stderr",
          "text": [
            "/usr/local/lib/python3.7/dist-packages/seaborn/_decorators.py:43: FutureWarning: Pass the following variable as a keyword arg: x. From version 0.12, the only valid positional argument will be `data`, and passing other arguments without an explicit keyword will result in an error or misinterpretation.\n",
            "  FutureWarning\n"
          ]
        },
        {
          "output_type": "execute_result",
          "data": {
            "text/plain": [
              "Text(0, 0.5, 'Counts of observation')"
            ]
          },
          "metadata": {},
          "execution_count": 4
        },
        {
          "output_type": "display_data",
          "data": {
            "text/plain": [
              "<Figure size 432x288 with 1 Axes>"
            ],
            "image/png": "[encoded data removed]"
          },
          "metadata": {
            "needs_background": "light"
          }
        }
      ]
    },
    {
      "cell_type": "code",
      "source": [
        "import cv2\n",
        "\n",
        "path = r'/content/drive/MyDrive/Datasets/picture data/train/images'\n",
        "\n",
        "img_list = list(data_csv['image'])\n",
        "\n",
        "data_img = []\n",
        "\n",
        "for each in img_list:\n",
        "    each_path = os.path.join(path,each)\n",
        "    each_img = cv2.imread(each_path)\n",
        "    each_img = cv2.cvtColor(each_img, cv2.COLOR_BGR2RGB)\n",
        "    each_img_resized = cv2.resize(each_img, (128,128))\n",
        "    data_img.append(each_img_resized)\n",
        "    \n",
        "X = np.array(data_img)\n",
        "print('Shape of X: ', X.shape)"
      ],
      "metadata": {
        "colab": {
          "base_uri": "https://localhost:8080/"
        },
        "id": "1GAv2z0arS2-",
        "outputId": "2b8f4766-fd5f-447e-d684-aa198d1cc8a5"
      },
      "execution_count": 5,
      "outputs": [
        {
          "output_type": "stream",
          "name": "stdout",
          "text": [
            "Shape of X:  (6252, 128, 128, 3)\n"
          ]
        }
      ]
    },
    {
      "cell_type": "code",
      "source": [
        "from sklearn.preprocessing import OneHotEncoder\n",
        "\n",
        "y = OneHotEncoder(dtype='int8', sparse=False).fit_transform(data_csv['category'].values.reshape(-1,1))\n",
        "print('Shape of y: ', y.shape)"
      ],
      "metadata": {
        "colab": {
          "base_uri": "https://localhost:8080/"
        },
        "id": "PM5UpBZmrYIm",
        "outputId": "a5b32beb-87d5-492b-f0f6-a1f2b619c6cd"
      },
      "execution_count": 6,
      "outputs": [
        {
          "output_type": "stream",
          "name": "stdout",
          "text": [
            "Shape of y:  (6252, 5)\n"
          ]
        }
      ]
    },
    {
      "cell_type": "code",
      "source": [
        "from sklearn.model_selection import train_test_split\n",
        "\n",
        "X_data, X_test, y_data, y_test = train_test_split(X,y, test_size=0.15, random_state=42)\n",
        "X_train, X_val, y_train, y_val = train_test_split(X_data, y_data, test_size = 0.2, random_state=42)"
      ],
      "metadata": {
        "id": "4hNBJZZ8reEm"
      },
      "execution_count": 7,
      "outputs": []
    },
    {
      "cell_type": "code",
      "source": [
        "from tensorflow.keras.preprocessing.image import ImageDataGenerator\n",
        "\n",
        "train_gen = ImageDataGenerator(horizontal_flip= True,\n",
        "                               rotation_range = 45,\n",
        "                               zoom_range=0.2,\n",
        "                               height_shift_range = 0.5,\n",
        "                               width_shift_range = 0.5\n",
        "                              )\n",
        "validation_gen = ImageDataGenerator(horizontal_flip= True,\n",
        "                               rotation_range = 45,\n",
        "                               zoom_range=0.2,\n",
        "                               height_shift_range = 0.5,\n",
        "                               width_shift_range = 0.5\n",
        "                              )\n",
        "\n",
        "train_gen.fit(X_train)\n",
        "validation_gen.fit(X_val)"
      ],
      "metadata": {
        "id": "ojH-woF7rg3I"
      },
      "execution_count": 8,
      "outputs": []
    },
    {
      "cell_type": "code",
      "source": [
        "from tensorflow.keras.models import Sequential, Model\n",
        "from tensorflow.keras.layers import Dense, Flatten, Conv2D, MaxPool2D, GlobalAveragePooling2D, Dropout\n",
        "from tensorflow.keras.applications.xception import Xception\n",
        "from tensorflow.keras.optimizers import Adam\n",
        "\n",
        "batch_size = 100\n",
        "epochs = 15\n",
        "\n",
        "base = Xception(include_top = False, weights='imagenet', input_shape=(128,128,3))\n",
        "x = base.output\n",
        "x = GlobalAveragePooling2D()(x)\n",
        "\n",
        "head = Dense(5, activation = 'softmax')(x)\n",
        "model = Model(inputs = base.input, outputs = head)\n",
        "\n",
        "model.compile(optimizer=Adam(lr=0.0001),\n",
        "              loss = 'categorical_crossentropy',\n",
        "              metrics=['accuracy']\n",
        "             )\n",
        "\n",
        "history = model.fit_generator(train_gen.flow(X_train, y_train, batch_size = batch_size),\n",
        "                              epochs = epochs,\n",
        "                              validation_data = validation_gen.flow(X_val, y_val, batch_size = batch_size),\n",
        "                              steps_per_epoch = X_train.shape[0] // batch_size\n",
        "                             )"
      ],
      "metadata": {
        "colab": {
          "base_uri": "https://localhost:8080/"
        },
        "id": "KSrNAT2Zriy-",
        "outputId": "3bc93c29-a45d-440c-b1a9-adbd23b1967c"
      },
      "execution_count": 9,
      "outputs": [
        {
          "output_type": "stream",
          "name": "stdout",
          "text": [
            "Downloading data from https://storage.googleapis.com/tensorflow/keras-applications/xception/xception_weights_tf_dim_ordering_tf_kernels_notop.h5\n",
            "83683744/83683744 [==============================] - 0s 0us/step\n"
          ]
        },
        {
          "output_type": "stream",
          "name": "stderr",
          "text": [
            "/usr/local/lib/python3.7/dist-packages/keras/optimizers/optimizer_v2/adam.py:110: UserWarning: The `lr` argument is deprecated, use `learning_rate` instead.\n",
            "  super(Adam, self).__init__(name, **kwargs)\n",
            "/usr/local/lib/python3.7/dist-packages/ipykernel_launcher.py:24: UserWarning: `Model.fit_generator` is deprecated and will be removed in a future version. Please use `Model.fit`, which supports generators.\n"
          ]
        },
        {
          "output_type": "stream",
          "name": "stdout",
          "text": [
            "Epoch 1/15\n",
            "42/42 [==============================] - 49s 757ms/step - loss: 1.3260 - accuracy: 0.4649 - val_loss: 1.7298 - val_accuracy: 0.4262\n",
            "Epoch 2/15\n",
            "42/42 [==============================] - 29s 679ms/step - loss: 0.7876 - accuracy: 0.7006 - val_loss: 1.2889 - val_accuracy: 0.5974\n",
            "Epoch 3/15\n",
            "42/42 [==============================] - 29s 692ms/step - loss: 0.6106 - accuracy: 0.7629 - val_loss: 0.7051 - val_accuracy: 0.7488\n",
            "Epoch 4/15\n",
            "42/42 [==============================] - 29s 684ms/step - loss: 0.5303 - accuracy: 0.8003 - val_loss: 0.6168 - val_accuracy: 0.7667\n",
            "Epoch 5/15\n",
            "42/42 [==============================] - 32s 751ms/step - loss: 0.4669 - accuracy: 0.8208 - val_loss: 0.5649 - val_accuracy: 0.7959\n",
            "Epoch 6/15\n",
            "42/42 [==============================] - 30s 705ms/step - loss: 0.4250 - accuracy: 0.8386 - val_loss: 0.4934 - val_accuracy: 0.8175\n",
            "Epoch 7/15\n",
            "42/42 [==============================] - 29s 704ms/step - loss: 0.4112 - accuracy: 0.8480 - val_loss: 0.4388 - val_accuracy: 0.8335\n",
            "Epoch 8/15\n",
            "42/42 [==============================] - 30s 712ms/step - loss: 0.3604 - accuracy: 0.8653 - val_loss: 0.4704 - val_accuracy: 0.8137\n",
            "Epoch 9/15\n",
            "42/42 [==============================] - 29s 694ms/step - loss: 0.3390 - accuracy: 0.8716 - val_loss: 0.4928 - val_accuracy: 0.8147\n",
            "Epoch 10/15\n",
            "42/42 [==============================] - 30s 709ms/step - loss: 0.3355 - accuracy: 0.8668 - val_loss: 0.4211 - val_accuracy: 0.8325\n",
            "Epoch 11/15\n",
            "42/42 [==============================] - 29s 693ms/step - loss: 0.3164 - accuracy: 0.8791 - val_loss: 0.4137 - val_accuracy: 0.8391\n",
            "Epoch 12/15\n",
            "42/42 [==============================] - 30s 713ms/step - loss: 0.2912 - accuracy: 0.8894 - val_loss: 0.3926 - val_accuracy: 0.8664\n",
            "Epoch 13/15\n",
            "42/42 [==============================] - 32s 760ms/step - loss: 0.2892 - accuracy: 0.8853 - val_loss: 0.3875 - val_accuracy: 0.8542\n",
            "Epoch 14/15\n",
            "42/42 [==============================] - 32s 755ms/step - loss: 0.2552 - accuracy: 0.9063 - val_loss: 0.3669 - val_accuracy: 0.8702\n",
            "Epoch 15/15\n",
            "42/42 [==============================] - 30s 701ms/step - loss: 0.2547 - accuracy: 0.9005 - val_loss: 0.3801 - val_accuracy: 0.8730\n"
          ]
        }
      ]
    },
    {
      "cell_type": "code",
      "source": [
        "from sklearn.metrics import classification_report, confusion_matrix\n",
        "\n",
        "y_pred = model.predict(X_test)\n",
        "\n",
        "y_pred_classes = np.argmax(y_pred, axis=1)\n",
        "\n",
        "y_test_classes = np.argmax(y_test, axis=1)\n",
        "\n",
        "confmx = confusion_matrix(y_test_classes, y_pred_classes)\n",
        "f, ax = plt.subplots(figsize = (8,8))\n",
        "sns.heatmap(confmx, annot=True, fmt = '.1f', ax=ax)\n",
        "plt.xlabel('Predicted Labels')\n",
        "plt.ylabel('True Labels')\n",
        "plt.title('Confusion Matrix')\n",
        "plt.show()"
      ],
      "metadata": {
        "colab": {
          "base_uri": "https://localhost:8080/",
          "height": 530
        },
        "id": "n45HjXPNrmMF",
        "outputId": "0facd1d0-153d-48a0-f191-ba6a50b3cbe8"
      },
      "execution_count": 10,
      "outputs": [
        {
          "output_type": "stream",
          "name": "stdout",
          "text": [
            "30/30 [==============================] - 4s 53ms/step\n"
          ]
        },
        {
          "output_type": "display_data",
          "data": {
            "text/plain": [
              "<Figure size 576x576 with 2 Axes>"
            ],
            "image/png": "[encoded data removed]"
          },
          "metadata": {
            "needs_background": "light"
          }
        }
      ]
    },
    {
      "cell_type": "code",
      "source": [
        "print(classification_report(y_test_classes, y_pred_classes))"
      ],
      "metadata": {
        "colab": {
          "base_uri": "https://localhost:8080/"
        },
        "id": "BDK7lyDNtsKm",
        "outputId": "fd09a097-59c1-4de1-df78-759eb1efc355"
      },
      "execution_count": 11,
      "outputs": [
        {
          "output_type": "stream",
          "name": "stdout",
          "text": [
            "              precision    recall  f1-score   support\n",
            "\n",
            "           0       0.79      0.93      0.85       306\n",
            "           1       0.96      0.94      0.95       172\n",
            "           2       0.94      0.98      0.96       140\n",
            "           3       0.97      0.92      0.95       127\n",
            "           4       0.87      0.65      0.75       193\n",
            "\n",
            "    accuracy                           0.88       938\n",
            "   macro avg       0.91      0.88      0.89       938\n",
            "weighted avg       0.89      0.88      0.88       938\n",
            "\n"
          ]
        }
      ]
    },
    {
      "cell_type": "code",
      "source": [
        "model.save(\"/content/drive/MyDrive/cv/Ship-shape.h5\")"
      ],
      "metadata": {
        "id": "KhHv4dPDtuUF"
      },
      "execution_count": 15,
      "outputs": []
    },
    {
      "cell_type": "code",
      "source": [],
      "metadata": {
        "id": "28wSx3uLt1hd"
      },
      "execution_count": null,
      "outputs": []
    }
  ]
}